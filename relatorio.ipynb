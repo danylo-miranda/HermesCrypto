{
 "cells": [
  {
   "cell_type": "markdown",
   "metadata": {},
   "source": [
    "#  <font color = orange> <font size = 8>  **Análise da Serie Histórica dos Valores de Criptomoedas.**\n",
    "\n",
    "---\n",
    "\n",
    "<center><img alt=\"Logo anp\" width=\"30%\" src=\"./img/banner.jpg\"></center>"
   ]
  },
  {
   "cell_type": "markdown",
   "metadata": {},
   "source": [
    "## **1. Objetivo do relatório** 🎯\n",
    "\n",
    "Este projeto tem como objetivo realizar uma análise exploratória dos valores históricos de criptomoedas, assim como também realizar o tratamento desses dados e por fim realizar consultas trazendo insights importantes para futuras tomadas de decisões. \n",
    "\n",
    "Esta análise irá nos responder as seguintes perguntas:\n",
    "\n",
    "1. Como se comportaram os valores para todas as criptomoedas? Os valores tiveram uma\n",
    "tendência de queda ou de aumento?\n",
    "2. Quais os valores médios para todas as criptomoedas?\n",
    "3. Em quais anos houve maiores quedas e valorizações?\n",
    "4. Existe alguma tendência de aumento ou queda dos valores pelo dia da semana?\n",
    "5. Qual moeda se mostra mais interessante em relação à valorização pela análise da série\n",
    "histórica?\n",
    "6. Qual moeda se mostra menos interessante em relação à valorização pela análise da série\n",
    "histórica?\n",
    "7. Existe correlação entre os valores para todas as criptomoedas?\n",
    "\n",
    "##### **1.1. Sobre os dados utilizados**\n",
    "\n",
    "Os dados fornecidos para a execução desse relatório são informações históricas de preços de algumas das principais criptomoedas por capitalização de mercado. Podemos baixar os arquivos csv  que serão usados [neste link](https://www.kaggle.com/datasets/sudalairajkumar/cryptocurrencypricehistory).\n",
    "\n",
    "---"
   ]
  },
  {
   "cell_type": "markdown",
   "metadata": {},
   "source": [
    "## **2. Coleta dos dados** 🎲\n",
    "\n",
    "Para podermos iniciar nossos trabalhos, primeiramente iremos importar as bibliotecas que serão usadas para a exploração e possíveis tratamentos, e logo depois coletar os dados necessários e fornecidos para a execução deste relatório.\n",
    "\n",
    "##### **2.1. Importação das bibliotecas que serão utilizadas**"
   ]
  },
  {
   "cell_type": "code",
   "execution_count": 14,
   "metadata": {},
   "outputs": [
    {
     "name": "stdout",
     "output_type": "stream",
     "text": [
      "Pacotes Prontos! Versões Utilizadas:\n",
      "\n",
      "Pandas      --> 1.5.3\n",
      "Numpy     --> 1.24.3\n",
      "Matplotlib  --> 3.7.1\n",
      "Seaborn  --> 0.12.2\n"
     ]
    }
   ],
   "source": [
    "#importando bibliotecas\n",
    "import pandas as pd\n",
    "import numpy as np\n",
    "import os\n",
    "import matplotlib\n",
    "import matplotlib.pyplot as plt\n",
    "import seaborn as sns\n",
    "import warnings\n",
    "\n",
    "# Utilizando a biblioteca warnings para retirar avisos da execução do código para uma visualização mais limpa.\n",
    "warnings.filterwarnings('ignore')\n",
    "\n",
    "# Mostrando versões utilizadas dos pacotes:\n",
    "print('Pacotes Prontos! Versões Utilizadas:\\n')\n",
    "print(f'Pandas      --> {pd.__version__}')\n",
    "print(f'Numpy     --> {np.__version__}')\n",
    "print(f'Matplotlib  --> {matplotlib.__version__}')\n",
    "print(f'Seaborn  --> {sns.__version__}')"
   ]
  },
  {
   "cell_type": "markdown",
   "metadata": {},
   "source": [
    "##### **2.2. Coleta dos dados necessários para análise**\n",
    "\n",
    "Agora iremos coletar os dados que serão ultilizados fazendo a leitura dos arquivos .csv que estão disponíveis na pasta \"**data_10**\" no repositório deste projeto."
   ]
  },
  {
   "cell_type": "code",
   "execution_count": 15,
   "metadata": {},
   "outputs": [
    {
     "name": "stdout",
     "output_type": "stream",
     "text": [
      "Moeda: coin_Aave.csv coletada com sucesso!\n",
      "Moeda: coin_BinanceCoin.csv coletada com sucesso!\n",
      "Moeda: coin_Bitcoin.csv coletada com sucesso!\n",
      "Moeda: coin_Cardano.csv coletada com sucesso!\n",
      "Moeda: coin_CryptocomCoin.csv coletada com sucesso!\n",
      "Moeda: coin_Dogecoin.csv coletada com sucesso!\n",
      "Moeda: coin_Ethereum.csv coletada com sucesso!\n",
      "Moeda: coin_Litecoin.csv coletada com sucesso!\n",
      "Moeda: coin_Solana.csv coletada com sucesso!\n",
      "Moeda: coin_Tether.csv coletada com sucesso!\n"
     ]
    }
   ],
   "source": [
    "#Caminho da pasta onde estão os arquivos CSV\n",
    "pasta = './data_10/'\n",
    "\n",
    "#Lista todos os arquivos na pasta\n",
    "arquivos_csv = [arquivo for arquivo in os.listdir(pasta) if arquivo.endswith('.csv')]\n",
    "\n",
    "#Variavel onde será armazenada o dataframe\n",
    "data_df = pd.DataFrame()\n",
    "\n",
    "#Esse loop percorre os arquivos csv e lê cada um deles \n",
    "for arquivo in arquivos_csv:\n",
    "    caminho_arquivo = os.path.join(pasta, arquivo)\n",
    "    dados = pd.read_csv(caminho_arquivo)\n",
    "    print(f'Moeda: {arquivo} coletada com sucesso!')\n",
    "    \n",
    "    #Concatena cada um dos csv ao dataframe\n",
    "    data_df = pd.concat([data_df, dados], ignore_index=True)\n",
    "\n",
    "#Todos os arquivos csv que se encontram na pasta data_10 (10 arquivos) foram concatenados e salvos na variavel data_df"
   ]
  },
  {
   "cell_type": "markdown",
   "metadata": {},
   "source": [
    "## **3. Análise exploratória** 🔍\n",
    "\n",
    "Com os dados carregados iremos ter nosso primeiro contato com eles e conhece-los melhor, compreendendo suas características que o definem e sua estrutura.\n",
    "\n",
    "##### **3.1. Dimensão do DataSet e primeira visualização**"
   ]
  },
  {
   "cell_type": "code",
   "execution_count": 16,
   "metadata": {},
   "outputs": [
    {
     "data": {
      "text/html": [
       "<div>\n",
       "<style scoped>\n",
       "    .dataframe tbody tr th:only-of-type {\n",
       "        vertical-align: middle;\n",
       "    }\n",
       "\n",
       "    .dataframe tbody tr th {\n",
       "        vertical-align: top;\n",
       "    }\n",
       "\n",
       "    .dataframe thead th {\n",
       "        text-align: right;\n",
       "    }\n",
       "</style>\n",
       "<table border=\"1\" class=\"dataframe\">\n",
       "  <thead>\n",
       "    <tr style=\"text-align: right;\">\n",
       "      <th></th>\n",
       "      <th>SNo</th>\n",
       "      <th>Name</th>\n",
       "      <th>Symbol</th>\n",
       "      <th>Date</th>\n",
       "      <th>High</th>\n",
       "      <th>Low</th>\n",
       "      <th>Open</th>\n",
       "      <th>Close</th>\n",
       "      <th>Volume</th>\n",
       "      <th>Marketcap</th>\n",
       "    </tr>\n",
       "  </thead>\n",
       "  <tbody>\n",
       "    <tr>\n",
       "      <th>0</th>\n",
       "      <td>1</td>\n",
       "      <td>Aave</td>\n",
       "      <td>AAVE</td>\n",
       "      <td>2020-10-05 23:59:59</td>\n",
       "      <td>55.112358</td>\n",
       "      <td>49.787900</td>\n",
       "      <td>52.675035</td>\n",
       "      <td>53.219243</td>\n",
       "      <td>0.000000e+00</td>\n",
       "      <td>8.912813e+07</td>\n",
       "    </tr>\n",
       "    <tr>\n",
       "      <th>1</th>\n",
       "      <td>2</td>\n",
       "      <td>Aave</td>\n",
       "      <td>AAVE</td>\n",
       "      <td>2020-10-06 23:59:59</td>\n",
       "      <td>53.402270</td>\n",
       "      <td>40.734578</td>\n",
       "      <td>53.291969</td>\n",
       "      <td>42.401599</td>\n",
       "      <td>5.830915e+05</td>\n",
       "      <td>7.101144e+07</td>\n",
       "    </tr>\n",
       "    <tr>\n",
       "      <th>2</th>\n",
       "      <td>3</td>\n",
       "      <td>Aave</td>\n",
       "      <td>AAVE</td>\n",
       "      <td>2020-10-07 23:59:59</td>\n",
       "      <td>42.408314</td>\n",
       "      <td>35.970690</td>\n",
       "      <td>42.399947</td>\n",
       "      <td>40.083976</td>\n",
       "      <td>6.828342e+05</td>\n",
       "      <td>6.713004e+07</td>\n",
       "    </tr>\n",
       "    <tr>\n",
       "      <th>3</th>\n",
       "      <td>4</td>\n",
       "      <td>Aave</td>\n",
       "      <td>AAVE</td>\n",
       "      <td>2020-10-08 23:59:59</td>\n",
       "      <td>44.902511</td>\n",
       "      <td>36.696057</td>\n",
       "      <td>39.885262</td>\n",
       "      <td>43.764463</td>\n",
       "      <td>1.658817e+06</td>\n",
       "      <td>2.202651e+08</td>\n",
       "    </tr>\n",
       "    <tr>\n",
       "      <th>4</th>\n",
       "      <td>5</td>\n",
       "      <td>Aave</td>\n",
       "      <td>AAVE</td>\n",
       "      <td>2020-10-09 23:59:59</td>\n",
       "      <td>47.569533</td>\n",
       "      <td>43.291776</td>\n",
       "      <td>43.764463</td>\n",
       "      <td>46.817744</td>\n",
       "      <td>8.155377e+05</td>\n",
       "      <td>2.356322e+08</td>\n",
       "    </tr>\n",
       "    <tr>\n",
       "      <th>...</th>\n",
       "      <td>...</td>\n",
       "      <td>...</td>\n",
       "      <td>...</td>\n",
       "      <td>...</td>\n",
       "      <td>...</td>\n",
       "      <td>...</td>\n",
       "      <td>...</td>\n",
       "      <td>...</td>\n",
       "      <td>...</td>\n",
       "      <td>...</td>\n",
       "    </tr>\n",
       "    <tr>\n",
       "      <th>17693</th>\n",
       "      <td>2314</td>\n",
       "      <td>Tether</td>\n",
       "      <td>USDT</td>\n",
       "      <td>2021-07-02 23:59:59</td>\n",
       "      <td>1.000830</td>\n",
       "      <td>0.999991</td>\n",
       "      <td>1.000301</td>\n",
       "      <td>1.000033</td>\n",
       "      <td>4.562659e+10</td>\n",
       "      <td>6.237592e+10</td>\n",
       "    </tr>\n",
       "    <tr>\n",
       "      <th>17694</th>\n",
       "      <td>2315</td>\n",
       "      <td>Tether</td>\n",
       "      <td>USDT</td>\n",
       "      <td>2021-07-03 23:59:59</td>\n",
       "      <td>1.000674</td>\n",
       "      <td>0.999914</td>\n",
       "      <td>1.000046</td>\n",
       "      <td>0.999956</td>\n",
       "      <td>4.119499e+10</td>\n",
       "      <td>6.237115e+10</td>\n",
       "    </tr>\n",
       "    <tr>\n",
       "      <th>17695</th>\n",
       "      <td>2316</td>\n",
       "      <td>Tether</td>\n",
       "      <td>USDT</td>\n",
       "      <td>2021-07-04 23:59:59</td>\n",
       "      <td>1.000165</td>\n",
       "      <td>0.998902</td>\n",
       "      <td>0.999987</td>\n",
       "      <td>0.999501</td>\n",
       "      <td>4.306666e+10</td>\n",
       "      <td>6.234274e+10</td>\n",
       "    </tr>\n",
       "    <tr>\n",
       "      <th>17696</th>\n",
       "      <td>2317</td>\n",
       "      <td>Tether</td>\n",
       "      <td>USDT</td>\n",
       "      <td>2021-07-05 23:59:59</td>\n",
       "      <td>1.001040</td>\n",
       "      <td>0.999426</td>\n",
       "      <td>0.999426</td>\n",
       "      <td>1.000667</td>\n",
       "      <td>4.721585e+10</td>\n",
       "      <td>6.241550e+10</td>\n",
       "    </tr>\n",
       "    <tr>\n",
       "      <th>17697</th>\n",
       "      <td>2318</td>\n",
       "      <td>Tether</td>\n",
       "      <td>USDT</td>\n",
       "      <td>2021-07-06 23:59:59</td>\n",
       "      <td>1.000879</td>\n",
       "      <td>0.999825</td>\n",
       "      <td>1.000728</td>\n",
       "      <td>1.000090</td>\n",
       "      <td>5.105419e+10</td>\n",
       "      <td>6.233384e+10</td>\n",
       "    </tr>\n",
       "  </tbody>\n",
       "</table>\n",
       "<p>17698 rows × 10 columns</p>\n",
       "</div>"
      ],
      "text/plain": [
       "        SNo    Name Symbol                 Date       High        Low  \\\n",
       "0         1    Aave   AAVE  2020-10-05 23:59:59  55.112358  49.787900   \n",
       "1         2    Aave   AAVE  2020-10-06 23:59:59  53.402270  40.734578   \n",
       "2         3    Aave   AAVE  2020-10-07 23:59:59  42.408314  35.970690   \n",
       "3         4    Aave   AAVE  2020-10-08 23:59:59  44.902511  36.696057   \n",
       "4         5    Aave   AAVE  2020-10-09 23:59:59  47.569533  43.291776   \n",
       "...     ...     ...    ...                  ...        ...        ...   \n",
       "17693  2314  Tether   USDT  2021-07-02 23:59:59   1.000830   0.999991   \n",
       "17694  2315  Tether   USDT  2021-07-03 23:59:59   1.000674   0.999914   \n",
       "17695  2316  Tether   USDT  2021-07-04 23:59:59   1.000165   0.998902   \n",
       "17696  2317  Tether   USDT  2021-07-05 23:59:59   1.001040   0.999426   \n",
       "17697  2318  Tether   USDT  2021-07-06 23:59:59   1.000879   0.999825   \n",
       "\n",
       "            Open      Close        Volume     Marketcap  \n",
       "0      52.675035  53.219243  0.000000e+00  8.912813e+07  \n",
       "1      53.291969  42.401599  5.830915e+05  7.101144e+07  \n",
       "2      42.399947  40.083976  6.828342e+05  6.713004e+07  \n",
       "3      39.885262  43.764463  1.658817e+06  2.202651e+08  \n",
       "4      43.764463  46.817744  8.155377e+05  2.356322e+08  \n",
       "...          ...        ...           ...           ...  \n",
       "17693   1.000301   1.000033  4.562659e+10  6.237592e+10  \n",
       "17694   1.000046   0.999956  4.119499e+10  6.237115e+10  \n",
       "17695   0.999987   0.999501  4.306666e+10  6.234274e+10  \n",
       "17696   0.999426   1.000667  4.721585e+10  6.241550e+10  \n",
       "17697   1.000728   1.000090  5.105419e+10  6.233384e+10  \n",
       "\n",
       "[17698 rows x 10 columns]"
      ]
     },
     "execution_count": 16,
     "metadata": {},
     "output_type": "execute_result"
    }
   ],
   "source": [
    "#visão 5 primeiras e 5 últimas linhas do DataSet\n",
    "data_df"
   ]
  },
  {
   "cell_type": "code",
   "execution_count": 17,
   "metadata": {},
   "outputs": [
    {
     "data": {
      "text/html": [
       "<div>\n",
       "<style scoped>\n",
       "    .dataframe tbody tr th:only-of-type {\n",
       "        vertical-align: middle;\n",
       "    }\n",
       "\n",
       "    .dataframe tbody tr th {\n",
       "        vertical-align: top;\n",
       "    }\n",
       "\n",
       "    .dataframe thead th {\n",
       "        text-align: right;\n",
       "    }\n",
       "</style>\n",
       "<table border=\"1\" class=\"dataframe\">\n",
       "  <thead>\n",
       "    <tr style=\"text-align: right;\">\n",
       "      <th></th>\n",
       "      <th>SNo</th>\n",
       "      <th>Name</th>\n",
       "      <th>Symbol</th>\n",
       "      <th>Date</th>\n",
       "      <th>High</th>\n",
       "      <th>Low</th>\n",
       "      <th>Open</th>\n",
       "      <th>Close</th>\n",
       "      <th>Volume</th>\n",
       "      <th>Marketcap</th>\n",
       "    </tr>\n",
       "  </thead>\n",
       "  <tbody>\n",
       "    <tr>\n",
       "      <th>282</th>\n",
       "      <td>8</td>\n",
       "      <td>Binance Coin</td>\n",
       "      <td>BNB</td>\n",
       "      <td>2017-08-02 23:59:59</td>\n",
       "      <td>0.101211</td>\n",
       "      <td>0.097361</td>\n",
       "      <td>0.099721</td>\n",
       "      <td>0.100452</td>\n",
       "      <td>2.567930e+05</td>\n",
       "      <td>1.004520e+07</td>\n",
       "    </tr>\n",
       "    <tr>\n",
       "      <th>2716</th>\n",
       "      <td>1000</td>\n",
       "      <td>Bitcoin</td>\n",
       "      <td>BTC</td>\n",
       "      <td>2016-01-23 23:59:59</td>\n",
       "      <td>394.542999</td>\n",
       "      <td>381.980988</td>\n",
       "      <td>382.433990</td>\n",
       "      <td>387.490997</td>\n",
       "      <td>5.624740e+07</td>\n",
       "      <td>5.858060e+09</td>\n",
       "    </tr>\n",
       "    <tr>\n",
       "      <th>11038</th>\n",
       "      <td>1262</td>\n",
       "      <td>Ethereum</td>\n",
       "      <td>ETH</td>\n",
       "      <td>2019-01-20 23:59:59</td>\n",
       "      <td>125.070390</td>\n",
       "      <td>118.702325</td>\n",
       "      <td>124.632401</td>\n",
       "      <td>119.474829</td>\n",
       "      <td>2.964108e+09</td>\n",
       "      <td>1.248314e+10</td>\n",
       "    </tr>\n",
       "    <tr>\n",
       "      <th>14193</th>\n",
       "      <td>2257</td>\n",
       "      <td>Litecoin</td>\n",
       "      <td>LTC</td>\n",
       "      <td>2019-07-03 23:59:59</td>\n",
       "      <td>123.736399</td>\n",
       "      <td>118.372245</td>\n",
       "      <td>119.334223</td>\n",
       "      <td>122.564114</td>\n",
       "      <td>4.529683e+09</td>\n",
       "      <td>7.661189e+09</td>\n",
       "    </tr>\n",
       "    <tr>\n",
       "      <th>6200</th>\n",
       "      <td>119</td>\n",
       "      <td>Crypto.com Coin</td>\n",
       "      <td>CRO</td>\n",
       "      <td>2019-04-12 23:59:59</td>\n",
       "      <td>0.105283</td>\n",
       "      <td>0.074627</td>\n",
       "      <td>0.085406</td>\n",
       "      <td>0.077423</td>\n",
       "      <td>3.599092e+06</td>\n",
       "      <td>3.676708e+08</td>\n",
       "    </tr>\n",
       "  </tbody>\n",
       "</table>\n",
       "</div>"
      ],
      "text/plain": [
       "        SNo             Name Symbol                 Date        High  \\\n",
       "282       8     Binance Coin    BNB  2017-08-02 23:59:59    0.101211   \n",
       "2716   1000          Bitcoin    BTC  2016-01-23 23:59:59  394.542999   \n",
       "11038  1262         Ethereum    ETH  2019-01-20 23:59:59  125.070390   \n",
       "14193  2257         Litecoin    LTC  2019-07-03 23:59:59  123.736399   \n",
       "6200    119  Crypto.com Coin    CRO  2019-04-12 23:59:59    0.105283   \n",
       "\n",
       "              Low        Open       Close        Volume     Marketcap  \n",
       "282      0.097361    0.099721    0.100452  2.567930e+05  1.004520e+07  \n",
       "2716   381.980988  382.433990  387.490997  5.624740e+07  5.858060e+09  \n",
       "11038  118.702325  124.632401  119.474829  2.964108e+09  1.248314e+10  \n",
       "14193  118.372245  119.334223  122.564114  4.529683e+09  7.661189e+09  \n",
       "6200     0.074627    0.085406    0.077423  3.599092e+06  3.676708e+08  "
      ]
     },
     "execution_count": 17,
     "metadata": {},
     "output_type": "execute_result"
    }
   ],
   "source": [
    "#Visualizando 5 linhas aleatórias do DataSet\n",
    "data_df.sample(5)"
   ]
  },
  {
   "cell_type": "markdown",
   "metadata": {},
   "source": [
    "Observando de forma geral nosso DataSet podemos observar que temos várias criptomoedas listadas e ordenadas por ordem alfabética. Temos o nome da criptomoeda e o símbolo que a identifica. Podemos perceber também que cada linha é um dia diferente e referente ao desempenho que tal moeda se teve naquele dia, mostrando como por exemplo o preço de abertura e fechamento do dia em questão.\n",
    "\n",
    "Podemos constatar também que nosso DataSet possui **17.698 linhas/registros** por **10 colunas/variáveis**."
   ]
  },
  {
   "cell_type": "markdown",
   "metadata": {},
   "source": [
    "##### **3.2. Dicionário das colunas/variáveis**\n",
    "\n",
    "Ao verificar as 10 colunas existentes do DataSet, podemos fazer um dicionário para dar um significado mais amplo para elas e então compreender melhor cada váriavel.\n",
    "\n",
    "* `SNo` - Id para identificação das criptomoedas.\n",
    "* `Name` - Nome da criptomoeda.\n",
    "* `Symbol` - Símbolo da criptomoeda. \n",
    "* `Date` - Data da observação e coleta dos valores.\n",
    "* `High` - Preço mais **ALTO** em um determinado dia.\n",
    "* `Low` - Preço mais **BAIXO** em um determinado dia.\n",
    "* `Open` - Preço de abertura em determinado dia.\n",
    "* `Close` - Preço de fechamento em determinado dia.\n",
    "* `Volume` - Volume de transações em um determinado dia. \n",
    "* `Marketcap` - Capitalização de mercado em dólares americanos. Marketcap é uma métrica que representa o valor total de mercado de uma criptomoeda em circulação."
   ]
  },
  {
   "cell_type": "markdown",
   "metadata": {},
   "source": [
    "##### **3.3. Checando os tipos de dados**\n",
    "\n",
    "Ao compreender o que significa cada coluna/váriavel, podemos verificar quais os tipos de dados que compõem cada uma delas.\n"
   ]
  },
  {
   "cell_type": "code",
   "execution_count": 18,
   "metadata": {},
   "outputs": [
    {
     "name": "stdout",
     "output_type": "stream",
     "text": [
      "<class 'pandas.core.frame.DataFrame'>\n",
      "RangeIndex: 17698 entries, 0 to 17697\n",
      "Data columns (total 10 columns):\n",
      " #   Column     Non-Null Count  Dtype  \n",
      "---  ------     --------------  -----  \n",
      " 0   SNo        17698 non-null  int64  \n",
      " 1   Name       17698 non-null  object \n",
      " 2   Symbol     17698 non-null  object \n",
      " 3   Date       17698 non-null  object \n",
      " 4   High       17698 non-null  float64\n",
      " 5   Low        17698 non-null  float64\n",
      " 6   Open       17698 non-null  float64\n",
      " 7   Close      17698 non-null  float64\n",
      " 8   Volume     17698 non-null  float64\n",
      " 9   Marketcap  17698 non-null  float64\n",
      "dtypes: float64(6), int64(1), object(3)\n",
      "memory usage: 1.4+ MB\n"
     ]
    }
   ],
   "source": [
    "data_df.info()"
   ]
  },
  {
   "cell_type": "markdown",
   "metadata": {},
   "source": [
    "Ao verificar os tipos de dados de cada váriavel, podemos notar um único problema na coluna **\"Date\"** que está como do tipo **object**, ou seja, ela está como uma string e não como uma data. Iremos realizar esse tratamento logo mais."
   ]
  },
  {
   "cell_type": "markdown",
   "metadata": {},
   "source": [
    "##### **3.4. Verificando valores nulos**\n",
    "\n",
    "Ao verificar valores nulos, podemos ter o concentimento se teremos que realizar o tratamento desses valores, ou se apenas podemos remove-los do DataSet. Os valores nulos atrapalham nossas analises com possíveis erros e dificultam uma modelagem e previsões."
   ]
  },
  {
   "cell_type": "code",
   "execution_count": 19,
   "metadata": {},
   "outputs": [
    {
     "data": {
      "text/plain": [
       "SNo          0\n",
       "Name         0\n",
       "Symbol       0\n",
       "Date         0\n",
       "High         0\n",
       "Low          0\n",
       "Open         0\n",
       "Close        0\n",
       "Volume       0\n",
       "Marketcap    0\n",
       "dtype: int64"
      ]
     },
     "execution_count": 19,
     "metadata": {},
     "output_type": "execute_result"
    }
   ],
   "source": [
    "data_df.isnull().sum()"
   ]
  },
  {
   "cell_type": "markdown",
   "metadata": {},
   "source": [
    "Nosso DataSet não contém valores nulos, portanto, seguiremos explorando o DataSet."
   ]
  },
  {
   "cell_type": "markdown",
   "metadata": {},
   "source": [
    "##### **3.5. Checando Outliers**\n",
    "\n",
    "Nesta etapa verificaremos outliers em nosso DataSet, mas será que devemos buscar outliers e leva-los em consideração com esses dados?"
   ]
  },
  {
   "cell_type": "code",
   "execution_count": 20,
   "metadata": {},
   "outputs": [
    {
     "data": {
      "image/png": "[encoded data removed]",
      "text/plain": [
       "<Figure size 1400x800 with 8 Axes>"
      ]
     },
     "metadata": {},
     "output_type": "display_data"
    }
   ],
   "source": [
    "#Este loop percorre as colunas do DataSet verificando se tal váriavel é númerica, caso sim, é adicionado na lista\n",
    "variaveis_numericas = []\n",
    "for i in data_df.columns[0:21].tolist():\n",
    "        if data_df.dtypes[i] == 'int64' or data_df.dtypes[i] == 'float64':            \n",
    "            # print(i, ':' , eleitorado.dtypes[i]) \n",
    "            variaveis_numericas.append(i)\n",
    "  \n",
    "#Criando gráfico\n",
    "plt.rcParams[\"figure.figsize\"] = [14.00, 8.00]\n",
    "plt.rcParams[\"figure.autolayout\"] = True\n",
    "\n",
    "plt.rcParams['font.size'] = 10 \n",
    "plt.rcParams['axes.titlesize'] = 20\n",
    "\n",
    "f, axes = plt.subplots(2, 4)\n",
    "\n",
    "linha = 0\n",
    "coluna = 0\n",
    "\n",
    "#Este loop percorre a lista da colunas númericas e plota um gráfico para cada váriavel\n",
    "for i in variaveis_numericas:\n",
    "    sns.boxplot(data = data_df, y=i, ax=axes[linha][coluna])\n",
    "    coluna += 1\n",
    "    if coluna == 4:\n",
    "        linha += 1\n",
    "        coluna = 0            \n",
    "\n",
    "plt.show() "
   ]
  },
  {
   "cell_type": "markdown",
   "metadata": {},
   "source": [
    "Observando os gráficos boxplot para cada váriavel acima, podemos constatar de fato que com esses dados não devemos considerar outliers, pois são valores específicos de preços das criptomoedas, ou seja, os preços variam muito durante os anos em que os dados das criptomoedas foram coletadas. Por exemplo, em 2013 o Bitcoin tinha um valor muito abaixo do que ele teve em 2021 [(Fonte)](https://academy.bit2me.com/pt/precio-historico-del-bitcoin/). Por esse motivo, essa análise de outliers não cabe a esta ocasião."
   ]
  },
  {
   "cell_type": "markdown",
   "metadata": {},
   "source": [
    "##### **3.6. Analisando correlações**\n",
    "\n",
    "Nesta etapa iremos analisar o grau de relacionamento entre as váriaveis do nosso DataSet."
   ]
  },
  {
   "cell_type": "code",
   "execution_count": 21,
   "metadata": {},
   "outputs": [
    {
     "data": {
      "image/png": "[encoded data removed]",
      "text/plain": [
       "<Figure size 1800x600 with 2 Axes>"
      ]
     },
     "metadata": {},
     "output_type": "display_data"
    }
   ],
   "source": [
    "#Usando o metodo corr() para verificar a correlação das variaveis\n",
    "correlacao_data = data_df.corr()\n",
    "\n",
    "#Criando uma máscara triangular superior\n",
    "mask = np.triu(np.ones_like(correlacao_data, dtype=bool))\n",
    "\n",
    "#Definindo tamanho da figura:\n",
    "fig, ax = plt.subplots(figsize=(18, 6))\n",
    "\n",
    "#Criando o Heatmap:\n",
    "ax = sns.heatmap(data=correlacao_data,\n",
    "                 mask=mask,\n",
    "                 vmin=-1, \n",
    "                 vmax=1, \n",
    "                 annot=True, \n",
    "                 linewidths=1,\n",
    "                 cmap='coolwarm')\n",
    "\n",
    "# Formatação:\n",
    "plt.title('Correlações de Variáveis', pad=6, fontdict={'size': 14, 'weight': 'bold'})\n",
    "\n",
    "plt.show()"
   ]
  },
  {
   "cell_type": "markdown",
   "metadata": {},
   "source": [
    "Ao analisar o Heatmap acima, podemos notar algumas váriaveis que se tem uma correlação perfeita. Isso acontece pois, assim como a análise feita com os outliers no tópico anterior, as criptomoedas tiveram um grande aumento de preço ao decorrer de todos os anos registrados nesse DataSet. Por exemplo, quando mais aumentavam o preço de abertura(open) e o de fechamento(close) mais aumentavam o valor de capitalização de mercado(Marketcap). [(Fonte)](https://livecoins.com.br/preco-historico-do-bitcoin/#:~:text=Em%202017%20o%20Bitcoin%20alcan%C3%A7ou,superou%20os%20US%24%2029%20mil.)\n",
    "\n",
    "---"
   ]
  },
  {
   "cell_type": "markdown",
   "metadata": {},
   "source": [
    "## **4. Tratamento dos dados** 📚\n",
    "\n",
    "Nessa etapa faremos o tratamento dos dados que coletamos e conhecemos nas etapas acima, serão analisados quais colunas e dados não necessitaremos para obter nossos insights, e quais dados precisarão ser tratados.\n",
    "\n",
    "Ao explorar os dados coletados podemos pontuar alguns tratamento que precisamos realizar no DataSet:\n",
    "\n",
    "- Remover coluna **\"SNo\"**, pois se trata de apenas um id para identificação das criptos.\n",
    "- Renomear as colunas para português, facilitando o entendimento.\n",
    "- Retirar a hora na coluna **\"Date\"**, pois é uma informação irrelevante.\n",
    "- Mudar o tipo de dado da coluna **\"Date\"** para formato de data, pois está como object.\n",
    "\n",
    "Como iremos alterar e modificar nosso DataSet, primeiramente vamos criar uma cópia para podermos realizar os tratamento necesários. O nome do DataSet limpo será **data_clean**."
   ]
  },
  {
   "cell_type": "markdown",
   "metadata": {},
   "source": [
    "##### **4.1. Definir colunas necessárias**"
   ]
  },
  {
   "cell_type": "code",
   "execution_count": 27,
   "metadata": {},
   "outputs": [
    {
     "data": {
      "text/html": [
       "<div>\n",
       "<style scoped>\n",
       "    .dataframe tbody tr th:only-of-type {\n",
       "        vertical-align: middle;\n",
       "    }\n",
       "\n",
       "    .dataframe tbody tr th {\n",
       "        vertical-align: top;\n",
       "    }\n",
       "\n",
       "    .dataframe thead th {\n",
       "        text-align: right;\n",
       "    }\n",
       "</style>\n",
       "<table border=\"1\" class=\"dataframe\">\n",
       "  <thead>\n",
       "    <tr style=\"text-align: right;\">\n",
       "      <th></th>\n",
       "      <th>Name</th>\n",
       "      <th>Symbol</th>\n",
       "      <th>Date</th>\n",
       "      <th>High</th>\n",
       "      <th>Low</th>\n",
       "      <th>Open</th>\n",
       "      <th>Close</th>\n",
       "      <th>Volume</th>\n",
       "      <th>Marketcap</th>\n",
       "    </tr>\n",
       "  </thead>\n",
       "  <tbody>\n",
       "    <tr>\n",
       "      <th>11586</th>\n",
       "      <td>Ethereum</td>\n",
       "      <td>ETH</td>\n",
       "      <td>2020-07-21 23:59:59</td>\n",
       "      <td>246.186264</td>\n",
       "      <td>235.680969</td>\n",
       "      <td>236.30251</td>\n",
       "      <td>245.016728</td>\n",
       "      <td>6.806696e+09</td>\n",
       "      <td>2.740650e+10</td>\n",
       "    </tr>\n",
       "  </tbody>\n",
       "</table>\n",
       "</div>"
      ],
      "text/plain": [
       "           Name Symbol                 Date        High         Low  \\\n",
       "11586  Ethereum    ETH  2020-07-21 23:59:59  246.186264  235.680969   \n",
       "\n",
       "            Open       Close        Volume     Marketcap  \n",
       "11586  236.30251  245.016728  6.806696e+09  2.740650e+10  "
      ]
     },
     "execution_count": 27,
     "metadata": {},
     "output_type": "execute_result"
    }
   ],
   "source": [
    "#Deletando coluna e salvando em nova varaivel\n",
    "data_clean = data_df.drop('SNo', axis=1)\n",
    "\n",
    "data_clean.sample()"
   ]
  },
  {
   "cell_type": "markdown",
   "metadata": {},
   "source": [
    "Podemos constatar que a coluna **\"SNo\"** foi removida do nosso DataSet."
   ]
  },
  {
   "cell_type": "markdown",
   "metadata": {},
   "source": [
    "##### **4.2. Renomeando colunas**"
   ]
  },
  {
   "cell_type": "code",
   "execution_count": 30,
   "metadata": {},
   "outputs": [
    {
     "data": {
      "text/html": [
       "<div>\n",
       "<style scoped>\n",
       "    .dataframe tbody tr th:only-of-type {\n",
       "        vertical-align: middle;\n",
       "    }\n",
       "\n",
       "    .dataframe tbody tr th {\n",
       "        vertical-align: top;\n",
       "    }\n",
       "\n",
       "    .dataframe thead th {\n",
       "        text-align: right;\n",
       "    }\n",
       "</style>\n",
       "<table border=\"1\" class=\"dataframe\">\n",
       "  <thead>\n",
       "    <tr style=\"text-align: right;\">\n",
       "      <th></th>\n",
       "      <th>Nome</th>\n",
       "      <th>Simbolo</th>\n",
       "      <th>Data</th>\n",
       "      <th>Maximo</th>\n",
       "      <th>Minimo</th>\n",
       "      <th>Abertura</th>\n",
       "      <th>Fechamento</th>\n",
       "      <th>Volume</th>\n",
       "      <th>Cap. de Mercado</th>\n",
       "    </tr>\n",
       "  </thead>\n",
       "  <tbody>\n",
       "    <tr>\n",
       "      <th>8871</th>\n",
       "      <td>Dogecoin</td>\n",
       "      <td>DOGE</td>\n",
       "      <td>2019-01-13 23:59:59</td>\n",
       "      <td>0.002171</td>\n",
       "      <td>0.002083</td>\n",
       "      <td>0.002137</td>\n",
       "      <td>0.002094</td>\n",
       "      <td>1.805931e+07</td>\n",
       "      <td>2.467337e+08</td>\n",
       "    </tr>\n",
       "  </tbody>\n",
       "</table>\n",
       "</div>"
      ],
      "text/plain": [
       "          Nome Simbolo                 Data    Maximo    Minimo  Abertura  \\\n",
       "8871  Dogecoin    DOGE  2019-01-13 23:59:59  0.002171  0.002083  0.002137   \n",
       "\n",
       "      Fechamento        Volume  Cap. de Mercado  \n",
       "8871    0.002094  1.805931e+07     2.467337e+08  "
      ]
     },
     "execution_count": 30,
     "metadata": {},
     "output_type": "execute_result"
    }
   ],
   "source": [
    "#Definindo nomes das váriaveis que serão renomeados\n",
    "data_clean.rename( \n",
    "    columns={\n",
    "        'Name': 'Nome',\n",
    "        'Symbol': 'Simbolo',\n",
    "        'Date': 'Data',\n",
    "        'High': 'Maximo',\n",
    "        'Low': 'Minimo',\n",
    "        'Open': 'Abertura',\n",
    "        'Close': 'Fechamento',\n",
    "        'Volume': 'Volume',\n",
    "        'Marketcap': 'Cap. de Mercado'\n",
    "    }, inplace=True\n",
    ")\n",
    "\n",
    "data_clean.sample()"
   ]
  },
  {
   "cell_type": "markdown",
   "metadata": {},
   "source": [
    "Como podemos observar todas as váriaveis foram renomeadas para português facilitando o entendimento das mesmas."
   ]
  },
  {
   "cell_type": "markdown",
   "metadata": {},
   "source": [
    "##### **4.3. Tratando a váriavel \"Data\"**\n",
    "\n",
    "A coluna **\"Data\"** refere-se a data em que ocerreu a coleta dos dados de determinada moeda. Porém nos registros junto com a data, temos a hora, os minutos e segundo em que ocorreu essa coleta. Como a hora é igual para todos os registros de todas as criptomoedas, iremos remove-la pois torna-se uma informação irrelevante para este relatório."
   ]
  },
  {
   "cell_type": "code",
   "execution_count": 43,
   "metadata": {},
   "outputs": [
    {
     "data": {
      "text/html": [
       "<div>\n",
       "<style scoped>\n",
       "    .dataframe tbody tr th:only-of-type {\n",
       "        vertical-align: middle;\n",
       "    }\n",
       "\n",
       "    .dataframe tbody tr th {\n",
       "        vertical-align: top;\n",
       "    }\n",
       "\n",
       "    .dataframe thead th {\n",
       "        text-align: right;\n",
       "    }\n",
       "</style>\n",
       "<table border=\"1\" class=\"dataframe\">\n",
       "  <thead>\n",
       "    <tr style=\"text-align: right;\">\n",
       "      <th></th>\n",
       "      <th>Nome</th>\n",
       "      <th>Simbolo</th>\n",
       "      <th>Data</th>\n",
       "      <th>Maximo</th>\n",
       "      <th>Minimo</th>\n",
       "      <th>Abertura</th>\n",
       "      <th>Fechamento</th>\n",
       "      <th>Volume</th>\n",
       "      <th>Cap. de Mercado</th>\n",
       "    </tr>\n",
       "  </thead>\n",
       "  <tbody>\n",
       "    <tr>\n",
       "      <th>12270</th>\n",
       "      <td>Litecoin</td>\n",
       "      <td>LTC</td>\n",
       "      <td>2014-03-28</td>\n",
       "      <td>14.7295</td>\n",
       "      <td>12.3895</td>\n",
       "      <td>12.6605</td>\n",
       "      <td>13.7441</td>\n",
       "      <td>20549800.0</td>\n",
       "      <td>3.708612e+08</td>\n",
       "    </tr>\n",
       "  </tbody>\n",
       "</table>\n",
       "</div>"
      ],
      "text/plain": [
       "           Nome Simbolo        Data   Maximo   Minimo  Abertura  Fechamento  \\\n",
       "12270  Litecoin     LTC  2014-03-28  14.7295  12.3895   12.6605     13.7441   \n",
       "\n",
       "           Volume  Cap. de Mercado  \n",
       "12270  20549800.0     3.708612e+08  "
      ]
     },
     "execution_count": 43,
     "metadata": {},
     "output_type": "execute_result"
    }
   ],
   "source": [
    "#filtrando a coluna data e \n",
    "data_clean['Data'] = pd.to_datetime(data_clean['Data']).dt.date\n",
    "\n",
    "data_clean.sample()"
   ]
  },
  {
   "cell_type": "markdown",
   "metadata": {},
   "source": [
    "Como podemos constatar na coluna **Data** as horas foram retiradas, deixando apenas a informação de data no formato YYYY-MM-DD. \n",
    "\n",
    "Seguindo nosso tratamento, agora iremos alterar o tipo de dado da váriavel em questão. Ela está com os registros do tipo \"object\", ou seja, está como uma string, abaixo faremos essa conversão para o tipo \"datetime\"."
   ]
  },
  {
   "cell_type": "code",
   "execution_count": 44,
   "metadata": {},
   "outputs": [
    {
     "name": "stdout",
     "output_type": "stream",
     "text": [
      "<class 'pandas.core.frame.DataFrame'>\n",
      "RangeIndex: 17698 entries, 0 to 17697\n",
      "Data columns (total 9 columns):\n",
      " #   Column           Non-Null Count  Dtype         \n",
      "---  ------           --------------  -----         \n",
      " 0   Nome             17698 non-null  object        \n",
      " 1   Simbolo          17698 non-null  object        \n",
      " 2   Data             17698 non-null  datetime64[ns]\n",
      " 3   Maximo           17698 non-null  float64       \n",
      " 4   Minimo           17698 non-null  float64       \n",
      " 5   Abertura         17698 non-null  float64       \n",
      " 6   Fechamento       17698 non-null  float64       \n",
      " 7   Volume           17698 non-null  float64       \n",
      " 8   Cap. de Mercado  17698 non-null  float64       \n",
      "dtypes: datetime64[ns](1), float64(6), object(2)\n",
      "memory usage: 1.2+ MB\n"
     ]
    }
   ],
   "source": [
    "#Mudando o tipo de object para datetime\n",
    "data_clean['Data'] = data_clean['Data'].apply(pd.to_datetime)\n",
    "\n",
    "data_clean.info()"
   ]
  },
  {
   "cell_type": "markdown",
   "metadata": {},
   "source": [
    "Como podemos constatar, a váriavel \"data\" está agora do tipo correto como \"datetime\". Essa mudança possibilita uma melhor agilidade e tira a possibilidade de erros futuros, quando formos realizar análises com essa váriavel.\n",
    "\n",
    "Para finalizar esta etapa, vamos salvar em um novo arquivo csv, o DataSet tratado e modificado com as ações necessárias."
   ]
  },
  {
   "cell_type": "code",
   "execution_count": 46,
   "metadata": {},
   "outputs": [],
   "source": [
    "#definindo o caminho da pasta e o nome do arquivo a ser salvo\n",
    "caminho_pasta = './data_clean/'\n",
    "nome_csv = 'data_clean.csv'\n",
    "caminho = caminho_pasta + nome_csv\n",
    "\n",
    "data_clean.to_csv(caminho, index=False)"
   ]
  },
  {
   "cell_type": "markdown",
   "metadata": {},
   "source": [
    "---"
   ]
  },
  {
   "cell_type": "markdown",
   "metadata": {},
   "source": [
    "## **5. Analises** 📊"
   ]
  }
 ],
 "metadata": {
  "kernelspec": {
   "display_name": "base",
   "language": "python",
   "name": "python3"
  },
  "language_info": {
   "codemirror_mode": {
    "name": "ipython",
    "version": 3
   },
   "file_extension": ".py",
   "mimetype": "text/x-python",
   "name": "python",
   "nbconvert_exporter": "python",
   "pygments_lexer": "ipython3",
   "version": "3.11.3"
  },
  "orig_nbformat": 4
 },
 "nbformat": 4,
 "nbformat_minor": 2
}
