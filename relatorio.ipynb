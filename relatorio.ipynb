{
 "cells": [
  {
   "cell_type": "markdown",
   "metadata": {},
   "source": [
    "#  <font color = orange> <font size = 8>  **Análise da Serie Histórica dos Valores de Criptomoedas.**\n",
    "\n",
    "---\n",
    "\n",
    "<center><img alt=\"Logo anp\" width=\"30%\" src=\"./img/banner.jpg\"></center>"
   ]
  },
  {
   "cell_type": "markdown",
   "metadata": {},
   "source": [
    "## **1. Objetivo do relatório** 🎯\n",
    "\n",
    "Este projeto tem como objetivo realizar uma análise exploratória dos valores históricos de criptomoedas, assim como também realizar o tratamento desses dados e por fim realizar consultas trazendo insights importantes para futuras tomadas de decisões. \n",
    "\n",
    "Esta análise irá nos responder as seguintes perguntas:\n",
    "\n",
    "1. Como se comportaram os valores para todas as criptomoedas? Os valores tiveram uma\n",
    "tendência de queda ou de aumento?\n",
    "2. Quais os valores médios para todas as criptomoedas?\n",
    "3. Em quais anos houve maiores quedas e valorizações?\n",
    "4. Existe alguma tendência de aumento ou queda dos valores pelo dia da semana?\n",
    "5. Qual moeda se mostra mais interessante em relação à valorização pela análise da série\n",
    "histórica?\n",
    "6. Qual moeda se mostra menos interessante em relação à valorização pela análise da série\n",
    "histórica?\n",
    "7. Existe correlação entre os valores para todas as criptomoedas?\n",
    "\n",
    "##### **1.1. Sobre os dados utilizados**\n",
    "\n",
    "Os dados fornecidos para a execução desse relatório são informações históricas de preços de algumas das principais criptomoedas por capitalização de mercado. Podemos baixar os arquivos csv  que serão usados [neste link](https://www.kaggle.com/datasets/sudalairajkumar/cryptocurrencypricehistory).\n",
    "\n",
    "---"
   ]
  },
  {
   "cell_type": "markdown",
   "metadata": {},
   "source": [
    "## **2. Coleta dos dados** 🎲\n",
    "\n",
    "Para podermos iniciar nossos trabalhos, primeiramente iremos importar as bibliotecas que serão usadas para a exploração e possíveis tratamentos, e logo depois coletar os dados necessários e fornecidos para a execução deste relatório.\n",
    "\n",
    "##### **2.1. Importação das bibliotecas que serão utilizadas**"
   ]
  },
  {
   "cell_type": "code",
   "execution_count": 2,
   "metadata": {},
   "outputs": [
    {
     "name": "stdout",
     "output_type": "stream",
     "text": [
      "Pacotes Prontos! Versões Utilizadas:\n",
      "\n",
      "Pandas      --> 1.5.3\n",
      "Numpy     --> 1.24.3\n"
     ]
    }
   ],
   "source": [
    "#importando bibliotecas\n",
    "import pandas as pd\n",
    "import numpy as np\n",
    "import os\n",
    "# import matplotlib\n",
    "# import matplotlib.pyplot as plt\n",
    "# import matplotlib.colors as mcolors\n",
    "# import seaborn as sns\n",
    "\n",
    "# Mostrando versões utilizadas dos pacotes:\n",
    "print('Pacotes Prontos! Versões Utilizadas:\\n')\n",
    "print(f'Pandas      --> {pd.__version__}')\n",
    "print(f'Numpy     --> {np.__version__}')\n",
    "# print(f'Matplotlib  --> {matplotlib.__version__}')\n",
    "# print(f'Seaborn  --> {sns.__version__}')"
   ]
  },
  {
   "cell_type": "markdown",
   "metadata": {},
   "source": [
    "##### **2.2. Coleta dos dados necessários para análise**\n",
    "\n",
    "Agora iremos coletar os dados que serão ultilizados fazendo a leitura dos arquivos .csv que estão disponíveis na pasta \"**data_10**\" no repositório deste projeto."
   ]
  },
  {
   "cell_type": "code",
   "execution_count": 8,
   "metadata": {},
   "outputs": [
    {
     "name": "stdout",
     "output_type": "stream",
     "text": [
      "Moeda: coin_Aave.csv coletada com sucesso!\n",
      "Moeda: coin_BinanceCoin.csv coletada com sucesso!\n",
      "Moeda: coin_Bitcoin.csv coletada com sucesso!\n",
      "Moeda: coin_Cardano.csv coletada com sucesso!\n",
      "Moeda: coin_CryptocomCoin.csv coletada com sucesso!\n",
      "Moeda: coin_Dogecoin.csv coletada com sucesso!\n",
      "Moeda: coin_Ethereum.csv coletada com sucesso!\n",
      "Moeda: coin_Litecoin.csv coletada com sucesso!\n",
      "Moeda: coin_Solana.csv coletada com sucesso!\n",
      "Moeda: coin_Tether.csv coletada com sucesso!\n"
     ]
    }
   ],
   "source": [
    "#Caminho da pasta onde estão os arquivos CSV\n",
    "pasta = './data_10/'\n",
    "\n",
    "#Lista todos os arquivos na pasta\n",
    "arquivos_csv = [arquivo for arquivo in os.listdir(pasta) if arquivo.endswith('.csv')]\n",
    "\n",
    "#Variavel onde será armazenada o dataframe\n",
    "data_df = pd.DataFrame()\n",
    "\n",
    "#Esse loop percorre os arquivos csv e lê cada um deles \n",
    "for arquivo in arquivos_csv:\n",
    "    caminho_arquivo = os.path.join(pasta, arquivo)\n",
    "    dados = pd.read_csv(caminho_arquivo)\n",
    "    print(f'Moeda: {arquivo} coletada com sucesso!')\n",
    "    \n",
    "    #Concatena cada um dos csv ao dataframe\n",
    "    data_df = pd.concat([data_df, dados], ignore_index=True)\n",
    "\n",
    "#Todos os arquivos csv que se encontram na pasta data_10 (10 arquivos) foram concatenados e salvos na varaivel data_df"
   ]
  }
 ],
 "metadata": {
  "kernelspec": {
   "display_name": "base",
   "language": "python",
   "name": "python3"
  },
  "language_info": {
   "codemirror_mode": {
    "name": "ipython",
    "version": 3
   },
   "file_extension": ".py",
   "mimetype": "text/x-python",
   "name": "python",
   "nbconvert_exporter": "python",
   "pygments_lexer": "ipython3",
   "version": "3.11.3"
  },
  "orig_nbformat": 4
 },
 "nbformat": 4,
 "nbformat_minor": 2
}
