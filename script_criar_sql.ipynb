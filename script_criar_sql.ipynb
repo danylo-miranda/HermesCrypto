{
 "cells": [
  {
   "cell_type": "code",
   "execution_count": 2,
   "metadata": {},
   "outputs": [],
   "source": [
    "# importando bibliotecas\n",
    "\n",
    "import pandas as pd "
   ]
  },
  {
   "cell_type": "code",
   "execution_count": 3,
   "metadata": {},
   "outputs": [],
   "source": [
    "# estruturação do banco de dados\n",
    "dados_sql=\"\"\"create Table moeda (id serial primary KEY,\n",
    "\t\t\t\t\t Nome varchar(100),\n",
    "\t\t\t\t\t Simbolo varchar(14),\n",
    "\t\t\t\t\t Data date,\n",
    "\t\t\t\t\t Maximo REAL,\n",
    "\t\t\t\t\t Minimo REAL,\n",
    "\t\t\t\t\t Abertura REAL,\n",
    "\t\t\t\t\t Fechamento REAL,\n",
    "\t\t\t\t\t Volume REAL,\n",
    "\t\t\t\t\t Cap_de_Mercado REAL);\n",
    "                     \n",
    "INSERT INTO moedas(Nome,Simbolo,Data,Maximo,Minimo,Abertura,Fechamento,Volume,cap_de_mercado)\n",
    "VALUES\"\"\""
   ]
  },
  {
   "cell_type": "code",
   "execution_count": 13,
   "metadata": {},
   "outputs": [],
   "source": [
    "# criação dos inserts \n",
    "\n",
    "arquivo=pd.read_csv('data_clean/data_clean.csv')\n",
    "\n",
    "for i in range(len(arquivo)):\n",
    "    dados_sql=dados_sql+(f\"('{arquivo['Nome'].iloc[i]}','{arquivo['Simbolo'].iloc[i]}','{arquivo['Data'].iloc[i][:10]}',{arquivo['Maximo'].iloc[i]},{arquivo['Minimo'].iloc[i]},{arquivo['Abertura'].iloc[i]},{arquivo['Fechamento'].iloc[i]},{arquivo['Volume'].iloc[i]},{arquivo['Cap. de Mercado'].iloc[i]}),\\n\")\n",
    "\n",
    "    "
   ]
  },
  {
   "cell_type": "code",
   "execution_count": 23,
   "metadata": {},
   "outputs": [],
   "source": [
    "# criação do arquio sql\n",
    "\n",
    "with open('script_sql/script_sql.sql','w') as arquivo : \n",
    "    arquivo.write(dados_sql[:-2])"
   ]
  }
 ],
 "metadata": {
  "kernelspec": {
   "display_name": "base",
   "language": "python",
   "name": "python3"
  },
  "language_info": {
   "codemirror_mode": {
    "name": "ipython",
    "version": 3
   },
   "file_extension": ".py",
   "mimetype": "text/x-python",
   "name": "python",
   "nbconvert_exporter": "python",
   "pygments_lexer": "ipython3",
   "version": "3.10.9"
  },
  "orig_nbformat": 4
 },
 "nbformat": 4,
 "nbformat_minor": 2
}
