{
 "cells": [
  {
   "cell_type": "code",
   "execution_count": 59,
   "metadata": {},
   "outputs": [],
   "source": [
    "# importando bibliotecas\n",
    "\n",
    "import pandas as pd "
   ]
  },
  {
   "cell_type": "code",
   "execution_count": 74,
   "metadata": {},
   "outputs": [],
   "source": [
    "# estruturação do banco de dados\n",
    "dados_sql=\"\"\"create Table moeda (id serial primary KEY,\n",
    "\t\t\t\t\t Nome varchar(100),\n",
    "\t\t\t\t\t Simbolo varchar(14),\n",
    "\t\t\t\t\t Data date,\n",
    "\t\t\t\t\t Maximo REAL,\n",
    "\t\t\t\t\t Minimo REAL,\n",
    "\t\t\t\t\t Abertura REAL,\n",
    "\t\t\t\t\t Fechamento REAL,\n",
    "\t\t\t\t\t Volume REAL,\n",
    "\t\t\t\t\t Cap_de_Mercado REAL);\n",
    "                     \n",
    "INSERT INTO moeda(Nome,Simbolo,Data,Maximo,Minimo,Abertura,Fechamento,Volume,cap_de_mercado)\n",
    "VALUES\"\"\""
   ]
  },
  {
   "cell_type": "code",
   "execution_count": 75,
   "metadata": {},
   "outputs": [],
   "source": [
    "# criação dos inserts \n",
    "\n",
    "arquivo=pd.read_csv('data_clean/data_clean.csv')\n",
    "\n",
    "for i in range(len(arquivo)):\n",
    "    dados_sql=dados_sql+(f\"('{arquivo['Nome'].iloc[i]}','{arquivo['Simbolo'].iloc[i]}','{arquivo['Data'].iloc[i][:10]}',{arquivo['Maximo'].iloc[i]},{arquivo['Minimo'].iloc[i]},{arquivo['Abertura'].iloc[i]},{arquivo['Fechamento'].iloc[i]},{arquivo['Volume'].iloc[i]},{arquivo['Cap. de Mercado'].iloc[i]}),\\n\")\n",
    "\n",
    "dados_sql=dados_sql[:-2]+';\\n'\n",
    "    "
   ]
  },
  {
   "cell_type": "code",
   "execution_count": 76,
   "metadata": {},
   "outputs": [],
   "source": [
    "\n",
    "cor=pd.pivot_table(data=arquivo,columns='Nome',index='Data',values='Fechamento',aggfunc='mean').dropna().corr()"
   ]
  },
  {
   "cell_type": "code",
   "execution_count": 77,
   "metadata": {},
   "outputs": [],
   "source": [
    "correlacao=\"\"\"create Table corelacao (id serial primary KEY,\n",
    "                    Nome VARCHAR(50),\n",
    "\t\t\t\t\t Aeve REAL,\n",
    "\t\t\t\t\t Binance_Coin REAL,\n",
    "\t\t\t\t\t Bitcoin REAL,\n",
    "\t\t\t\t\t Cardano REAL,\n",
    "\t\t\t\t\t Crypto_com REAL,\n",
    "\t\t\t\t\t Dogecoin REAL,\n",
    "                     Ethereum REAL,\n",
    "\t\t\t\t\t Litecoin REAL,\n",
    "\t\t\t\t\t Solana REAL,\n",
    "\t\t\t\t\t Tether REAL);\n",
    "                     \n",
    "INSERT INTO corelacao(Nome,Aeve,Binance_Coin,Bitcoin,Cardano,Crypto_com,Dogecoin,Ethereum,Litecoin,Solana,Tether)\n",
    "VALUES\"\"\""
   ]
  },
  {
   "cell_type": "code",
   "execution_count": 78,
   "metadata": {},
   "outputs": [],
   "source": [
    "dados_sql=dados_sql+correlacao\n",
    "for i in range(len(cor)):\n",
    "    dados_sql=dados_sql+(f\"('{cor.index[i]}',{cor['Aave'].iloc[i]},{cor['Binance Coin'].iloc[i]},{cor['Bitcoin'].iloc[i]},{cor['Cardano'].iloc[i]},{cor['Crypto.com Coin'].iloc[i]},{cor['Dogecoin'].iloc[i]},{cor['Ethereum'].iloc[i]},{cor['Litecoin'].iloc[i]},{cor['Solana'].iloc[i]},{cor['Tether'].iloc[i]}),\\n\")\n"
   ]
  },
  {
   "cell_type": "code",
   "execution_count": 79,
   "metadata": {},
   "outputs": [],
   "source": [
    "# criação do arquio sql\n",
    "\n",
    "with open('script_sql/script_sql.sql','w') as arquivo : \n",
    "    arquivo.write(dados_sql[:-2])"
   ]
  }
 ],
 "metadata": {
  "kernelspec": {
   "display_name": "base",
   "language": "python",
   "name": "python3"
  },
  "language_info": {
   "codemirror_mode": {
    "name": "ipython",
    "version": 3
   },
   "file_extension": ".py",
   "mimetype": "text/x-python",
   "name": "python",
   "nbconvert_exporter": "python",
   "pygments_lexer": "ipython3",
   "version": "3.10.9"
  },
  "orig_nbformat": 4
 },
 "nbformat": 4,
 "nbformat_minor": 2
}
